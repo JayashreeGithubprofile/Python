{
 "cells": [
  {
   "cell_type": "code",
   "execution_count": 1,
   "id": "183d4e16",
   "metadata": {},
   "outputs": [
    {
     "name": "stdout",
     "output_type": "stream",
     "text": [
      "This is my first program\n"
     ]
    }
   ],
   "source": [
    "print(\"This is my first program\")"
   ]
  },
  {
   "cell_type": "code",
   "execution_count": 3,
   "id": "c3a40e11",
   "metadata": {},
   "outputs": [
    {
     "name": "stdout",
     "output_type": "stream",
     "text": [
      "This is my second line..\n"
     ]
    }
   ],
   "source": [
    "print(\"This is my second line..\")"
   ]
  },
  {
   "cell_type": "code",
   "execution_count": 4,
   "id": "b7a010ad",
   "metadata": {},
   "outputs": [
    {
     "name": "stdout",
     "output_type": "stream",
     "text": [
      "Now i will learn python\n"
     ]
    }
   ],
   "source": [
    "print(\"Now i will learn python\")"
   ]
  },
  {
   "cell_type": "code",
   "execution_count": 5,
   "id": "d233bbe2",
   "metadata": {},
   "outputs": [
    {
     "name": "stdout",
     "output_type": "stream",
     "text": [
      "Hello\n"
     ]
    }
   ],
   "source": [
    "print(\"Hello\")"
   ]
  },
  {
   "cell_type": "code",
   "execution_count": 6,
   "id": "c6042a75",
   "metadata": {},
   "outputs": [],
   "source": [
    "#The above statement are meant just for first program"
   ]
  },
  {
   "cell_type": "code",
   "execution_count": 7,
   "id": "82fa7cdd",
   "metadata": {},
   "outputs": [],
   "source": [
    "#I have understood how to write a program and how to comment and document my code"
   ]
  },
  {
   "cell_type": "code",
   "execution_count": 8,
   "id": "471d1bba",
   "metadata": {},
   "outputs": [],
   "source": [
    "# I have understood how to comment\n",
    "# but now I am provideing multiple lines\n",
    "# how will i comment now."
   ]
  }
 ],
 "metadata": {
  "kernelspec": {
   "display_name": "Python 3 (ipykernel)",
   "language": "python",
   "name": "python3"
  },
  "language_info": {
   "codemirror_mode": {
    "name": "ipython",
    "version": 3
   },
   "file_extension": ".py",
   "mimetype": "text/x-python",
   "name": "python",
   "nbconvert_exporter": "python",
   "pygments_lexer": "ipython3",
   "version": "3.9.13"
  }
 },
 "nbformat": 4,
 "nbformat_minor": 5
}
